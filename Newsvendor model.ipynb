{
 "cells": [
  {
   "cell_type": "code",
   "execution_count": null,
   "id": "8bdbe2a2",
   "metadata": {},
   "outputs": [],
   "source": [
    "# imports\n",
    "import numpy as np\n",
    "from scipy import stats\n",
    "from scipy.stats import norm\n"
   ]
  },
  {
   "cell_type": "code",
   "execution_count": null,
   "id": "bd8fa309",
   "metadata": {},
   "outputs": [],
   "source": [
    "unit_cost = 10.90\n",
    "unit_price = 24.00\n",
    "ave_demand = 32000\n",
    "std_demand = 11000"
   ]
  },
  {
   "cell_type": "code",
   "execution_count": null,
   "id": "1148d29c",
   "metadata": {},
   "outputs": [],
   "source": [
    "def calculate_profit(cost, price, order, demand):\n",
    "    # outcome 1: didn't order enough\n",
    "    if order < demand:\n",
    "        amount = order\n",
    "    # outcome 2: less demand than expected\n",
    "    else:\n",
    "        amount = demand\n",
    "    return (unit_price * amount) - (unit_cost * order)\n"
   ]
  },
  {
   "cell_type": "code",
   "execution_count": null,
   "id": "9c1ed4fb",
   "metadata": {},
   "outputs": [],
   "source": [
    "my_profit = calculate_profit(10.90, 24, 25000, 4000)\n",
    "print(\"The profit/(loss): {}\".format(my_profit)) # 177.000 in Excel (due to rounding)"
   ]
  },
  {
   "cell_type": "code",
   "execution_count": null,
   "id": "5ef1d598",
   "metadata": {},
   "outputs": [],
   "source": [
    "# using scipy\n",
    "my_prob2 = norm.cdf(8000, ave_demand, std_demand)\n",
    "print(\"The probability: {}\".format(my_prob2)) # 1.5% in Excel"
   ]
  },
  {
   "cell_type": "code",
   "execution_count": null,
   "id": "9c0f94a6",
   "metadata": {},
   "outputs": [],
   "source": [
    "# using simulation\n",
    "\n",
    "# let's take a million samples out of the Normal distribution: samples\n",
    "samples = np.random.normal(ave_demand, std_demand, size=1000000) # samples is a list of possible demands\n",
    "\n",
    "# Compute the fraction that are less than or equal to 8000 units: prob\n",
    "my_prob = np.sum(samples <= 8000)/ len(samples)\n",
    "print(\"The probability with simulation: {}\".format(my_prob)) # roughly 1.5% again, but bit different"
   ]
  },
  {
   "cell_type": "code",
   "execution_count": null,
   "id": "9e00bf5d",
   "metadata": {},
   "outputs": [],
   "source": [
    "# shortage cost for now\n",
    "shortage_cost = unit_price - unit_cost\n",
    "# excess cost for now\n",
    "excess_cost = unit_cost\n",
    "# the critical ratio captures the trade-off\n",
    "critical_ratio = shortage_cost / (excess_cost + shortage_cost)"
   ]
  },
  {
   "cell_type": "code",
   "execution_count": null,
   "id": "180b79f4",
   "metadata": {},
   "outputs": [],
   "source": [
    "# find Q* where the probability of my demand being less or equal to order equals CR\n",
    "my_q1 = np.ceil(norm.ppf(critical_ratio, ave_demand, std_demand))\n",
    "print(\"The ideal order size: {}\".format(my_q1)) # should give 33,267"
   ]
  },
  {
   "cell_type": "code",
   "execution_count": null,
   "id": "1702cab2",
   "metadata": {},
   "outputs": [],
   "source": [
    "# new variable\n",
    "salvage_price = 7.00\n",
    "\n",
    "# shortage cost for now\n",
    "shortage_cost = unit_price - unit_cost\n",
    "# excess cost for now\n",
    "excess_cost_salvage = unit_cost - salvage_price\n",
    "# the critical ratio captures the trade-off\n",
    "critical_ratio_salvage = shortage_cost / (excess_cost_salvage + shortage_cost)"
   ]
  },
  {
   "cell_type": "code",
   "execution_count": null,
   "id": "fdeb072a",
   "metadata": {},
   "outputs": [],
   "source": [
    "# find Q* where the probability of my demand being less or equal to order equals CR\n",
    "my_q2 = np.ceil(norm.ppf(critical_ratio_salvage, ave_demand, std_demand))\n",
    "print(\"The ideal order size with salvage value: {}\".format(my_q2)) # should give 40,149"
   ]
  },
  {
   "cell_type": "code",
   "execution_count": null,
   "id": "55666286",
   "metadata": {},
   "outputs": [],
   "source": [
    "def calculate_expected_units(order_size, mu, sigma):\n",
    "    k = (order_size - mu)/sigma\n",
    "    gk = norm.pdf(k, 0, 1) - (k * norm.sf(k))\n",
    "    exp_us = gk * sigma # this np.ceil needs to be fixed !!!!\n",
    "    return (exp_us)"
   ]
  },
  {
   "cell_type": "code",
   "execution_count": null,
   "id": "698ee725",
   "metadata": {},
   "outputs": [],
   "source": [
    "example = calculate_expected_units(190, 160, 45)\n",
    "print(\"The expected unit for normal example is: {}.\".format(example))"
   ]
  },
  {
   "cell_type": "code",
   "execution_count": null,
   "id": "5da00210",
   "metadata": {},
   "outputs": [],
   "source": [
    "def calculate_expected_profits(price, salvage, cost, penalty, order_size, mu, sigma):\n",
    "    exp_us = calculate_expected_units(order_size, mu, sigma)\n",
    "    return (price-salvage)*mu - ((cost-salvage)*order_size) - ((price-salvage+penalty)*exp_us)"
   ]
  },
  {
   "cell_type": "code",
   "execution_count": null,
   "id": "aba1b7bf",
   "metadata": {},
   "outputs": [],
   "source": [
    "# solving CASE 1:\n",
    "salvage_value1 = 0\n",
    "exp_us1 = np.ceil(calculate_expected_units(my_q1, ave_demand, std_demand))\n",
    "my_exp_prof1 = np.ceil(calculate_expected_profits(unit_price, salvage_value1, \\\n",
    "                unit_cost, 0, my_q1, ave_demand, std_demand))\n",
    "print(\"The expected profit without salvage value: {}\".format(my_exp_prof1)) \n",
    "# $314,550 when using the standard normal table ($26 difference)"
   ]
  },
  {
   "cell_type": "code",
   "execution_count": null,
   "id": "faea42da",
   "metadata": {},
   "outputs": [],
   "source": [
    "# Solving CASE 2:\n",
    "salvage_value2 = 7.00\n",
    "exp_us2 = np.ceil(calculate_expected_units(my_q2, ave_demand, std_demand))\n",
    "my_exp_prof2 = np.ceil(calculate_expected_profits(unit_price, salvage_value2, \\\n",
    "                unit_cost, 0, my_q2, ave_demand, std_demand))\n",
    "print(\"The expected profit with salvage value: {}\".format(my_exp_prof2))\n",
    "# $362,514 when using the standard normal table ($14 difference)"
   ]
  },
  {
   "cell_type": "code",
   "execution_count": null,
   "id": "cce5855f",
   "metadata": {},
   "outputs": [],
   "source": [
    "# repeating from marginal cost with salvage\n",
    "\n",
    "# shortage cost: price - cost\n",
    "shortage_cost = unit_price - unit_cost\n",
    "# excess cost: cost - salvage\n",
    "excess_cost_salvage = unit_cost - salvage_price\n",
    "# the critical ratio captures the trade-off\n",
    "critical_ratio_salvage = shortage_cost / (excess_cost_salvage + shortage_cost)\n",
    "print(\"The ideal order size with salvage value is still: {}\".format(my_q2)) # should give 40,149\n",
    "print(\"The expected profit for the retailer with salvage value is: {}\".format(my_exp_prof2))"
   ]
  },
  {
   "cell_type": "code",
   "execution_count": null,
   "id": "b1154976",
   "metadata": {},
   "outputs": [],
   "source": [
    "# new variable: the manufacturer's cost\n",
    "base_cost = 2.90\n",
    "\n",
    "man_exp_prof1 = my_q2 * (unit_cost - base_cost)\n",
    "print(\"The ideal order size is: {}\".format(my_q2))\n",
    "print(\"The retailer's profit is: {}\".format(my_exp_prof2))\n",
    "print(\"The manufacturer's profit is: {}\".format(man_exp_prof1))\n",
    "print(\"Total channel profit is: {}\".format(my_exp_prof2 + man_exp_prof1))"
   ]
  },
  {
   "cell_type": "code",
   "execution_count": null,
   "id": "0b9cc58a",
   "metadata": {},
   "outputs": [],
   "source": [
    "# shortage cost for now\n",
    "shortage_cost_channel = unit_price - base_cost\n",
    "# excess cost for now\n",
    "excess_cost_salvage = unit_cost - salvage_price\n",
    "# the critical ratio captures the trade-off\n",
    "critical_ratio_salvage_channel = shortage_cost_channel / (excess_cost_salvage + shortage_cost_channel)\n",
    "\n",
    "# finding ideal order size\n",
    "my_q3 = np.ceil(norm.ppf(critical_ratio_salvage_channel, ave_demand, std_demand))\n",
    "print(\"The ideal order size with salvage value for the whole channel is: {}\".format(my_q3))\n",
    "\n",
    "# finding expected profits for the channel\n",
    "my_exp_prof3 = np.ceil(calculate_expected_profits(unit_price, salvage_value2, \\\n",
    "                unit_cost, 0, my_q3, ave_demand, std_demand))\n",
    "print(\"The expected profit of the retailer is lower: {}\".format(my_exp_prof3))\n",
    "\n",
    "# finding manufacturer profits at this level\n",
    "man_exp_prof2 = my_q3 * (unit_cost - base_cost)\n",
    "print(\"Total channel profit is: {}\".format(man_exp_prof2+my_exp_prof3))"
   ]
  },
  {
   "cell_type": "code",
   "execution_count": null,
   "id": "436ed388",
   "metadata": {},
   "outputs": [],
   "source": [
    "# buyback contract\n",
    "buyback_price = (((unit_price - salvage_price) / (unit_price - base_cost)) * unit_cost) \\\n",
    "                - ((unit_price*(base_cost - salvage_price)) / (unit_price - base_cost))\n",
    "\n",
    "my_exp_prof4 = np.ceil(calculate_expected_profits(unit_price, buyback_price, \\\n",
    "                unit_cost, 0, my_q3, ave_demand, std_demand))\n",
    "\n",
    "print(\"The optimal buyback price is {}\".format(round(buyback_price, 2)))\n",
    "print(\"The ideal order size with salvage value for the whole channel is: {}\".format(my_q3))\n",
    "print(\"Total channel profit is: {}\".format(man_exp_prof2+my_exp_prof4))\n",
    "print(\"The retailer's profit is now: {}\".format(my_exp_prof4)) # previously it was $362,500\n",
    "print(\"The manufacturer's profit is now: {}\".format(man_exp_prof2)) # previously it was $321,192"
   ]
  },
  {
   "cell_type": "code",
   "execution_count": null,
   "id": "dc6f1304",
   "metadata": {},
   "outputs": [],
   "source": []
  }
 ],
 "metadata": {
  "kernelspec": {
   "display_name": "Python 3 (ipykernel)",
   "language": "python",
   "name": "python3"
  },
  "language_info": {
   "codemirror_mode": {
    "name": "ipython",
    "version": 3
   },
   "file_extension": ".py",
   "mimetype": "text/x-python",
   "name": "python",
   "nbconvert_exporter": "python",
   "pygments_lexer": "ipython3",
   "version": "3.9.13"
  }
 },
 "nbformat": 4,
 "nbformat_minor": 5
}
